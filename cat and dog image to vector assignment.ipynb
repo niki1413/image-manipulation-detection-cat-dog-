{
 "cells": [
  {
   "cell_type": "code",
   "execution_count": 8,
   "id": "c74b9f19",
   "metadata": {},
   "outputs": [],
   "source": [
    "import numpy as np\n",
    "import pandas as pd\n",
    "import re\n",
    "import emoji\n",
    "import nltk \n",
    "from nltk.tokenize import word_tokenize,sent_tokenize\n",
    "from nltk.corpus import stopwords\n",
    "from nltk.stem import PorterStemmer,LancasterStemmer,SnowballStemmer,WordNetLemmatizer\n",
    "from sklearn.feature_extraction.text import TfidfVectorizer\n",
    "from sklearn.feature_extraction.text import CountVectorizer\n",
    "import os\n",
    "import gensim\n",
    "from gensim.models import Word2Vec\n",
    "from gensim.models import KeyedVectors\n",
    "import cv2"
   ]
  },
  {
   "cell_type": "code",
   "execution_count": 9,
   "id": "5fed2cc7",
   "metadata": {},
   "outputs": [
    {
     "data": {
      "text/plain": [
       "'C:\\\\Users\\\\nikitha'"
      ]
     },
     "execution_count": 9,
     "metadata": {},
     "output_type": "execute_result"
    }
   ],
   "source": [
    "os.getcwd()"
   ]
  },
  {
   "cell_type": "code",
   "execution_count": 15,
   "id": "e2e024ae",
   "metadata": {},
   "outputs": [],
   "source": [
    "os.chdir(r\"C:\\Users\\nikitha\\Desktop\\train\")"
   ]
  },
  {
   "cell_type": "code",
   "execution_count": 16,
   "id": "03472ed2",
   "metadata": {},
   "outputs": [],
   "source": [
    "all_images=os.listdir(r\"C:\\Users\\nikitha\\Desktop\\train\")\n"
   ]
  },
  {
   "cell_type": "code",
   "execution_count": 17,
   "id": "e1c95b32",
   "metadata": {},
   "outputs": [],
   "source": [
    "new_list1=[]\n",
    "new_list2=[]\n",
    "for i in all_images:\n",
    "    if i.startswith(\"c\"):\n",
    "        new_list1.append(i)\n",
    "    elif i.startswith(\"d\"):\n",
    "        new_list2.append(i)"
   ]
  },
  {
   "cell_type": "code",
   "execution_count": 18,
   "id": "def4c898",
   "metadata": {},
   "outputs": [],
   "source": [
    "os.mkdir(r\"C:\\Users\\nikitha\\Desktop\\train\\cat_train\")"
   ]
  },
  {
   "cell_type": "code",
   "execution_count": 19,
   "id": "f3dcd70e",
   "metadata": {},
   "outputs": [],
   "source": [
    "os.mkdir(r\"C:\\Users\\nikitha\\Desktop\\train\\dog_train\")"
   ]
  },
  {
   "cell_type": "code",
   "execution_count": 20,
   "id": "b6caf6ae",
   "metadata": {},
   "outputs": [],
   "source": [
    "count=0\n",
    "for y in all_images:\n",
    "    count=count+1\n",
    "    if y.startswith(\"cat\"):\n",
    "        img=cv2.imread(r\"C:\\Users\\nikitha\\Desktop\\train\\{}\".format(y))\n",
    "        cv2.imwrite(r\"C:\\Users\\nikitha\\Desktop\\train\\cat_train\\{}.jpg\". format(count),img)\n",
    "    else:\n",
    "        img1=cv2.imread(r\"C:\\Users\\nikitha\\Desktop\\train\\{}\".format(y))\n",
    "        cv2.imwrite(r\"C:\\Users\\nikitha\\Desktop\\train\\dog_train\\{}.jpg\". format(count),img1)"
   ]
  },
  {
   "cell_type": "code",
   "execution_count": 22,
   "id": "47ef21cb",
   "metadata": {},
   "outputs": [],
   "source": [
    "os.chdir(r\"C:\\Users\\nikitha\\Desktop\\train\\cat_train\")\n",
    "all_images=os.listdir()\n",
    "cat=[]\n",
    "for i in all_images:\n",
    "    img1=cv2.imread(r\"C:\\Users\\nikitha\\Desktop\\train\\cat_train\\\\\"+i)\n",
    "    grey=cv2.cvtColor(img1,cv2.COLOR_BGR2GRAY) #changing colorspace\n",
    "    resized=cv2.resize(grey,(150,100))  #here am reducing the pixels\n",
    "    f_cat=resized.flatten().tolist()\n",
    "    cat.append(f_cat)"
   ]
  },
  {
   "cell_type": "code",
   "execution_count": 23,
   "id": "d9dc3c1c",
   "metadata": {},
   "outputs": [],
   "source": [
    "cat_data=pd.DataFrame(cat)\n",
    "cat_data[\"label\"]=\"cat\""
   ]
  },
  {
   "cell_type": "code",
   "execution_count": 24,
   "id": "eada7a66",
   "metadata": {},
   "outputs": [
    {
     "data": {
      "text/html": [
       "<div>\n",
       "<style scoped>\n",
       "    .dataframe tbody tr th:only-of-type {\n",
       "        vertical-align: middle;\n",
       "    }\n",
       "\n",
       "    .dataframe tbody tr th {\n",
       "        vertical-align: top;\n",
       "    }\n",
       "\n",
       "    .dataframe thead th {\n",
       "        text-align: right;\n",
       "    }\n",
       "</style>\n",
       "<table border=\"1\" class=\"dataframe\">\n",
       "  <thead>\n",
       "    <tr style=\"text-align: right;\">\n",
       "      <th></th>\n",
       "      <th>0</th>\n",
       "      <th>1</th>\n",
       "      <th>2</th>\n",
       "      <th>3</th>\n",
       "      <th>4</th>\n",
       "      <th>5</th>\n",
       "      <th>6</th>\n",
       "      <th>7</th>\n",
       "      <th>8</th>\n",
       "      <th>9</th>\n",
       "      <th>...</th>\n",
       "      <th>14991</th>\n",
       "      <th>14992</th>\n",
       "      <th>14993</th>\n",
       "      <th>14994</th>\n",
       "      <th>14995</th>\n",
       "      <th>14996</th>\n",
       "      <th>14997</th>\n",
       "      <th>14998</th>\n",
       "      <th>14999</th>\n",
       "      <th>label</th>\n",
       "    </tr>\n",
       "  </thead>\n",
       "  <tbody>\n",
       "    <tr>\n",
       "      <th>0</th>\n",
       "      <td>167</td>\n",
       "      <td>172</td>\n",
       "      <td>173</td>\n",
       "      <td>176</td>\n",
       "      <td>180</td>\n",
       "      <td>182</td>\n",
       "      <td>184</td>\n",
       "      <td>186</td>\n",
       "      <td>188</td>\n",
       "      <td>190</td>\n",
       "      <td>...</td>\n",
       "      <td>2</td>\n",
       "      <td>2</td>\n",
       "      <td>2</td>\n",
       "      <td>2</td>\n",
       "      <td>2</td>\n",
       "      <td>2</td>\n",
       "      <td>2</td>\n",
       "      <td>2</td>\n",
       "      <td>2</td>\n",
       "      <td>cat</td>\n",
       "    </tr>\n",
       "    <tr>\n",
       "      <th>1</th>\n",
       "      <td>77</td>\n",
       "      <td>81</td>\n",
       "      <td>77</td>\n",
       "      <td>75</td>\n",
       "      <td>79</td>\n",
       "      <td>80</td>\n",
       "      <td>71</td>\n",
       "      <td>73</td>\n",
       "      <td>68</td>\n",
       "      <td>73</td>\n",
       "      <td>...</td>\n",
       "      <td>184</td>\n",
       "      <td>183</td>\n",
       "      <td>183</td>\n",
       "      <td>181</td>\n",
       "      <td>177</td>\n",
       "      <td>174</td>\n",
       "      <td>166</td>\n",
       "      <td>164</td>\n",
       "      <td>164</td>\n",
       "      <td>cat</td>\n",
       "    </tr>\n",
       "    <tr>\n",
       "      <th>2</th>\n",
       "      <td>197</td>\n",
       "      <td>198</td>\n",
       "      <td>201</td>\n",
       "      <td>201</td>\n",
       "      <td>201</td>\n",
       "      <td>201</td>\n",
       "      <td>201</td>\n",
       "      <td>199</td>\n",
       "      <td>199</td>\n",
       "      <td>200</td>\n",
       "      <td>...</td>\n",
       "      <td>236</td>\n",
       "      <td>235</td>\n",
       "      <td>232</td>\n",
       "      <td>228</td>\n",
       "      <td>225</td>\n",
       "      <td>223</td>\n",
       "      <td>227</td>\n",
       "      <td>232</td>\n",
       "      <td>234</td>\n",
       "      <td>cat</td>\n",
       "    </tr>\n",
       "    <tr>\n",
       "      <th>3</th>\n",
       "      <td>145</td>\n",
       "      <td>88</td>\n",
       "      <td>86</td>\n",
       "      <td>131</td>\n",
       "      <td>133</td>\n",
       "      <td>137</td>\n",
       "      <td>144</td>\n",
       "      <td>135</td>\n",
       "      <td>130</td>\n",
       "      <td>144</td>\n",
       "      <td>...</td>\n",
       "      <td>73</td>\n",
       "      <td>87</td>\n",
       "      <td>79</td>\n",
       "      <td>90</td>\n",
       "      <td>89</td>\n",
       "      <td>68</td>\n",
       "      <td>95</td>\n",
       "      <td>74</td>\n",
       "      <td>68</td>\n",
       "      <td>cat</td>\n",
       "    </tr>\n",
       "    <tr>\n",
       "      <th>4</th>\n",
       "      <td>37</td>\n",
       "      <td>72</td>\n",
       "      <td>99</td>\n",
       "      <td>120</td>\n",
       "      <td>135</td>\n",
       "      <td>142</td>\n",
       "      <td>146</td>\n",
       "      <td>135</td>\n",
       "      <td>118</td>\n",
       "      <td>129</td>\n",
       "      <td>...</td>\n",
       "      <td>32</td>\n",
       "      <td>32</td>\n",
       "      <td>31</td>\n",
       "      <td>28</td>\n",
       "      <td>27</td>\n",
       "      <td>29</td>\n",
       "      <td>34</td>\n",
       "      <td>30</td>\n",
       "      <td>31</td>\n",
       "      <td>cat</td>\n",
       "    </tr>\n",
       "    <tr>\n",
       "      <th>...</th>\n",
       "      <td>...</td>\n",
       "      <td>...</td>\n",
       "      <td>...</td>\n",
       "      <td>...</td>\n",
       "      <td>...</td>\n",
       "      <td>...</td>\n",
       "      <td>...</td>\n",
       "      <td>...</td>\n",
       "      <td>...</td>\n",
       "      <td>...</td>\n",
       "      <td>...</td>\n",
       "      <td>...</td>\n",
       "      <td>...</td>\n",
       "      <td>...</td>\n",
       "      <td>...</td>\n",
       "      <td>...</td>\n",
       "      <td>...</td>\n",
       "      <td>...</td>\n",
       "      <td>...</td>\n",
       "      <td>...</td>\n",
       "      <td>...</td>\n",
       "    </tr>\n",
       "    <tr>\n",
       "      <th>12495</th>\n",
       "      <td>79</td>\n",
       "      <td>101</td>\n",
       "      <td>118</td>\n",
       "      <td>105</td>\n",
       "      <td>62</td>\n",
       "      <td>99</td>\n",
       "      <td>116</td>\n",
       "      <td>114</td>\n",
       "      <td>71</td>\n",
       "      <td>99</td>\n",
       "      <td>...</td>\n",
       "      <td>200</td>\n",
       "      <td>198</td>\n",
       "      <td>196</td>\n",
       "      <td>208</td>\n",
       "      <td>201</td>\n",
       "      <td>195</td>\n",
       "      <td>192</td>\n",
       "      <td>174</td>\n",
       "      <td>176</td>\n",
       "      <td>cat</td>\n",
       "    </tr>\n",
       "    <tr>\n",
       "      <th>12496</th>\n",
       "      <td>184</td>\n",
       "      <td>184</td>\n",
       "      <td>200</td>\n",
       "      <td>197</td>\n",
       "      <td>187</td>\n",
       "      <td>176</td>\n",
       "      <td>169</td>\n",
       "      <td>160</td>\n",
       "      <td>153</td>\n",
       "      <td>146</td>\n",
       "      <td>...</td>\n",
       "      <td>155</td>\n",
       "      <td>127</td>\n",
       "      <td>113</td>\n",
       "      <td>96</td>\n",
       "      <td>92</td>\n",
       "      <td>84</td>\n",
       "      <td>79</td>\n",
       "      <td>70</td>\n",
       "      <td>65</td>\n",
       "      <td>cat</td>\n",
       "    </tr>\n",
       "    <tr>\n",
       "      <th>12497</th>\n",
       "      <td>66</td>\n",
       "      <td>68</td>\n",
       "      <td>29</td>\n",
       "      <td>31</td>\n",
       "      <td>30</td>\n",
       "      <td>29</td>\n",
       "      <td>29</td>\n",
       "      <td>28</td>\n",
       "      <td>28</td>\n",
       "      <td>28</td>\n",
       "      <td>...</td>\n",
       "      <td>35</td>\n",
       "      <td>34</td>\n",
       "      <td>31</td>\n",
       "      <td>31</td>\n",
       "      <td>28</td>\n",
       "      <td>28</td>\n",
       "      <td>27</td>\n",
       "      <td>26</td>\n",
       "      <td>22</td>\n",
       "      <td>cat</td>\n",
       "    </tr>\n",
       "    <tr>\n",
       "      <th>12498</th>\n",
       "      <td>99</td>\n",
       "      <td>101</td>\n",
       "      <td>101</td>\n",
       "      <td>100</td>\n",
       "      <td>103</td>\n",
       "      <td>106</td>\n",
       "      <td>106</td>\n",
       "      <td>114</td>\n",
       "      <td>110</td>\n",
       "      <td>108</td>\n",
       "      <td>...</td>\n",
       "      <td>160</td>\n",
       "      <td>159</td>\n",
       "      <td>150</td>\n",
       "      <td>151</td>\n",
       "      <td>154</td>\n",
       "      <td>153</td>\n",
       "      <td>154</td>\n",
       "      <td>152</td>\n",
       "      <td>143</td>\n",
       "      <td>cat</td>\n",
       "    </tr>\n",
       "    <tr>\n",
       "      <th>12499</th>\n",
       "      <td>155</td>\n",
       "      <td>141</td>\n",
       "      <td>130</td>\n",
       "      <td>101</td>\n",
       "      <td>79</td>\n",
       "      <td>69</td>\n",
       "      <td>100</td>\n",
       "      <td>130</td>\n",
       "      <td>152</td>\n",
       "      <td>167</td>\n",
       "      <td>...</td>\n",
       "      <td>239</td>\n",
       "      <td>240</td>\n",
       "      <td>230</td>\n",
       "      <td>236</td>\n",
       "      <td>237</td>\n",
       "      <td>216</td>\n",
       "      <td>240</td>\n",
       "      <td>238</td>\n",
       "      <td>241</td>\n",
       "      <td>cat</td>\n",
       "    </tr>\n",
       "  </tbody>\n",
       "</table>\n",
       "<p>12500 rows × 15001 columns</p>\n",
       "</div>"
      ],
      "text/plain": [
       "         0    1    2    3    4    5    6    7    8    9  ...  14991  14992  \\\n",
       "0      167  172  173  176  180  182  184  186  188  190  ...      2      2   \n",
       "1       77   81   77   75   79   80   71   73   68   73  ...    184    183   \n",
       "2      197  198  201  201  201  201  201  199  199  200  ...    236    235   \n",
       "3      145   88   86  131  133  137  144  135  130  144  ...     73     87   \n",
       "4       37   72   99  120  135  142  146  135  118  129  ...     32     32   \n",
       "...    ...  ...  ...  ...  ...  ...  ...  ...  ...  ...  ...    ...    ...   \n",
       "12495   79  101  118  105   62   99  116  114   71   99  ...    200    198   \n",
       "12496  184  184  200  197  187  176  169  160  153  146  ...    155    127   \n",
       "12497   66   68   29   31   30   29   29   28   28   28  ...     35     34   \n",
       "12498   99  101  101  100  103  106  106  114  110  108  ...    160    159   \n",
       "12499  155  141  130  101   79   69  100  130  152  167  ...    239    240   \n",
       "\n",
       "       14993  14994  14995  14996  14997  14998  14999  label  \n",
       "0          2      2      2      2      2      2      2    cat  \n",
       "1        183    181    177    174    166    164    164    cat  \n",
       "2        232    228    225    223    227    232    234    cat  \n",
       "3         79     90     89     68     95     74     68    cat  \n",
       "4         31     28     27     29     34     30     31    cat  \n",
       "...      ...    ...    ...    ...    ...    ...    ...    ...  \n",
       "12495    196    208    201    195    192    174    176    cat  \n",
       "12496    113     96     92     84     79     70     65    cat  \n",
       "12497     31     31     28     28     27     26     22    cat  \n",
       "12498    150    151    154    153    154    152    143    cat  \n",
       "12499    230    236    237    216    240    238    241    cat  \n",
       "\n",
       "[12500 rows x 15001 columns]"
      ]
     },
     "execution_count": 24,
     "metadata": {},
     "output_type": "execute_result"
    }
   ],
   "source": [
    "cat_data"
   ]
  },
  {
   "cell_type": "code",
   "execution_count": 25,
   "id": "97d59be0",
   "metadata": {},
   "outputs": [],
   "source": [
    "os.chdir(r\"C:\\Users\\nikitha\\Desktop\\train\\cat_train\")\n",
    "all_images=os.listdir()\n",
    "cat=[]\n",
    "for i in all_images:\n",
    "    img1=cv2.imread(r\"C:\\Users\\nikitha\\Desktop\\train\\cat_train\\\\\"+i)\n",
    "    #grey=cv2.cvtColor(im1,cv2.COLOR_BGR2GRAY)\n",
    "    resized=cv2.resize(img1,(150,100))\n",
    "    f_cat=resized.flatten().tolist()\n",
    "    cat.append(f_cat)"
   ]
  },
  {
   "cell_type": "code",
   "execution_count": 26,
   "id": "5e27b48a",
   "metadata": {},
   "outputs": [],
   "source": [
    "os.chdir(r\"C:\\Users\\nikitha\\Desktop\\train\\dog_train\")\n",
    "all_images=os.listdir()\n",
    "dog=[]\n",
    "for dog_images in all_images:\n",
    "    img1=cv2.imread(r\"C:\\Users\\nikitha\\Desktop\\train\\dog_train\\\\\"+dog_images)\n",
    "    grey=cv2.cvtColor(img1,cv2.COLOR_BGR2GRAY)\n",
    "    resize_=cv2.resize(grey,(150,150))\n",
    "    f_dog=resize_.flatten().tolist()\n",
    "    dog.append(f_dog)"
   ]
  },
  {
   "cell_type": "code",
   "execution_count": null,
   "id": "d660060d",
   "metadata": {},
   "outputs": [],
   "source": []
  },
  {
   "cell_type": "code",
   "execution_count": null,
   "id": "620734ab",
   "metadata": {},
   "outputs": [],
   "source": []
  },
  {
   "cell_type": "code",
   "execution_count": null,
   "id": "3cda7d02",
   "metadata": {},
   "outputs": [],
   "source": []
  },
  {
   "cell_type": "code",
   "execution_count": null,
   "id": "15a348ae",
   "metadata": {},
   "outputs": [],
   "source": []
  },
  {
   "cell_type": "code",
   "execution_count": null,
   "id": "ea9562d3",
   "metadata": {},
   "outputs": [],
   "source": []
  },
  {
   "cell_type": "code",
   "execution_count": null,
   "id": "bc2c24c7",
   "metadata": {},
   "outputs": [],
   "source": []
  },
  {
   "cell_type": "code",
   "execution_count": null,
   "id": "c9bea3db",
   "metadata": {},
   "outputs": [],
   "source": []
  },
  {
   "cell_type": "code",
   "execution_count": null,
   "id": "6341942d",
   "metadata": {},
   "outputs": [],
   "source": []
  },
  {
   "cell_type": "code",
   "execution_count": null,
   "id": "622a9dff",
   "metadata": {},
   "outputs": [],
   "source": []
  },
  {
   "cell_type": "code",
   "execution_count": null,
   "id": "0a0a202a",
   "metadata": {},
   "outputs": [],
   "source": []
  },
  {
   "cell_type": "code",
   "execution_count": null,
   "id": "29fafec0",
   "metadata": {},
   "outputs": [],
   "source": []
  },
  {
   "cell_type": "code",
   "execution_count": null,
   "id": "411ebbcb",
   "metadata": {},
   "outputs": [],
   "source": []
  },
  {
   "cell_type": "code",
   "execution_count": null,
   "id": "ef1b9024",
   "metadata": {},
   "outputs": [],
   "source": []
  },
  {
   "cell_type": "code",
   "execution_count": null,
   "id": "b366c068",
   "metadata": {},
   "outputs": [],
   "source": []
  },
  {
   "cell_type": "code",
   "execution_count": null,
   "id": "ec7532a2",
   "metadata": {},
   "outputs": [],
   "source": []
  },
  {
   "cell_type": "code",
   "execution_count": null,
   "id": "83f70eb8",
   "metadata": {},
   "outputs": [],
   "source": []
  },
  {
   "cell_type": "code",
   "execution_count": 2,
   "id": "801dcebf",
   "metadata": {},
   "outputs": [],
   "source": [
    "stp=stopwords.words(\"english\")"
   ]
  },
  {
   "cell_type": "code",
   "execution_count": 3,
   "id": "03e73e07",
   "metadata": {},
   "outputs": [
    {
     "data": {
      "text/plain": [
       "'C:\\\\Users\\\\nikitha'"
      ]
     },
     "execution_count": 3,
     "metadata": {},
     "output_type": "execute_result"
    }
   ],
   "source": [
    "os.getcwd()"
   ]
  },
  {
   "cell_type": "code",
   "execution_count": 5,
   "id": "887087e4",
   "metadata": {},
   "outputs": [
    {
     "ename": "FileNotFoundError",
     "evalue": "[WinError 2] The system cannot find the file specified: 'C:\\\\Users\\\\nikitha\\\\Desktop\\\\train'",
     "output_type": "error",
     "traceback": [
      "\u001b[1;31m---------------------------------------------------------------------------\u001b[0m",
      "\u001b[1;31mFileNotFoundError\u001b[0m                         Traceback (most recent call last)",
      "Input \u001b[1;32mIn [5]\u001b[0m, in \u001b[0;36m<cell line: 1>\u001b[1;34m()\u001b[0m\n\u001b[1;32m----> 1\u001b[0m \u001b[43mos\u001b[49m\u001b[38;5;241;43m.\u001b[39;49m\u001b[43mchdir\u001b[49m\u001b[43m(\u001b[49m\u001b[38;5;124;43mr\u001b[39;49m\u001b[38;5;124;43m\"\u001b[39;49m\u001b[38;5;124;43mC:\u001b[39;49m\u001b[38;5;124;43m\\\u001b[39;49m\u001b[38;5;124;43mUsers\u001b[39;49m\u001b[38;5;124;43m\\\u001b[39;49m\u001b[38;5;124;43mnikitha\u001b[39;49m\u001b[38;5;124;43m\\\u001b[39;49m\u001b[38;5;124;43mDesktop\u001b[39;49m\u001b[38;5;124;43m\\\u001b[39;49m\u001b[38;5;124;43mtrain\u001b[39;49m\u001b[38;5;124;43m\"\u001b[39;49m\u001b[43m)\u001b[49m\n",
      "\u001b[1;31mFileNotFoundError\u001b[0m: [WinError 2] The system cannot find the file specified: 'C:\\\\Users\\\\nikitha\\\\Desktop\\\\train'"
     ]
    }
   ],
   "source": [
    "os.chdir(r\"C:\\Users\\nikitha\\Desktop\\train\")"
   ]
  },
  {
   "cell_type": "code",
   "execution_count": 6,
   "id": "74ee16d6",
   "metadata": {},
   "outputs": [
    {
     "ename": "FileNotFoundError",
     "evalue": "[WinError 3] The system cannot find the path specified: 'C:\\\\Users\\\\nikitha\\\\Desktop\\\\train\\\\dog'",
     "output_type": "error",
     "traceback": [
      "\u001b[1;31m---------------------------------------------------------------------------\u001b[0m",
      "\u001b[1;31mFileNotFoundError\u001b[0m                         Traceback (most recent call last)",
      "Input \u001b[1;32mIn [6]\u001b[0m, in \u001b[0;36m<cell line: 1>\u001b[1;34m()\u001b[0m\n\u001b[1;32m----> 1\u001b[0m \u001b[43mos\u001b[49m\u001b[38;5;241;43m.\u001b[39;49m\u001b[43mmkdir\u001b[49m\u001b[43m(\u001b[49m\u001b[38;5;124;43mr\u001b[39;49m\u001b[38;5;124;43m\"\u001b[39;49m\u001b[38;5;124;43mC:\u001b[39;49m\u001b[38;5;124;43m\\\u001b[39;49m\u001b[38;5;124;43mUsers\u001b[39;49m\u001b[38;5;124;43m\\\u001b[39;49m\u001b[38;5;124;43mnikitha\u001b[39;49m\u001b[38;5;124;43m\\\u001b[39;49m\u001b[38;5;124;43mDesktop\u001b[39;49m\u001b[38;5;124;43m\\\u001b[39;49m\u001b[38;5;124;43mtrain\u001b[39;49m\u001b[38;5;124;43m\\\u001b[39;49m\u001b[38;5;124;43mdog\u001b[39;49m\u001b[38;5;124;43m\"\u001b[39;49m\u001b[43m)\u001b[49m\n",
      "\u001b[1;31mFileNotFoundError\u001b[0m: [WinError 3] The system cannot find the path specified: 'C:\\\\Users\\\\nikitha\\\\Desktop\\\\train\\\\dog'"
     ]
    }
   ],
   "source": [
    "os.mkdir(r\"C:\\Users\\nikitha\\Desktop\\train\\dog\")"
   ]
  },
  {
   "cell_type": "code",
   "execution_count": 7,
   "id": "49c2fadd",
   "metadata": {},
   "outputs": [
    {
     "ename": "FileNotFoundError",
     "evalue": "[WinError 3] The system cannot find the path specified: 'C:\\\\Users\\\\nikitha\\\\Desktop\\\\train\\\\cat'",
     "output_type": "error",
     "traceback": [
      "\u001b[1;31m---------------------------------------------------------------------------\u001b[0m",
      "\u001b[1;31mFileNotFoundError\u001b[0m                         Traceback (most recent call last)",
      "Input \u001b[1;32mIn [7]\u001b[0m, in \u001b[0;36m<cell line: 1>\u001b[1;34m()\u001b[0m\n\u001b[1;32m----> 1\u001b[0m \u001b[43mos\u001b[49m\u001b[38;5;241;43m.\u001b[39;49m\u001b[43mmkdir\u001b[49m\u001b[43m(\u001b[49m\u001b[38;5;124;43mr\u001b[39;49m\u001b[38;5;124;43m\"\u001b[39;49m\u001b[38;5;124;43mC:\u001b[39;49m\u001b[38;5;124;43m\\\u001b[39;49m\u001b[38;5;124;43mUsers\u001b[39;49m\u001b[38;5;124;43m\\\u001b[39;49m\u001b[38;5;124;43mnikitha\u001b[39;49m\u001b[38;5;124;43m\\\u001b[39;49m\u001b[38;5;124;43mDesktop\u001b[39;49m\u001b[38;5;124;43m\\\u001b[39;49m\u001b[38;5;124;43mtrain\u001b[39;49m\u001b[38;5;124;43m\\\u001b[39;49m\u001b[38;5;124;43mcat\u001b[39;49m\u001b[38;5;124;43m\"\u001b[39;49m\u001b[43m)\u001b[49m\n",
      "\u001b[1;31mFileNotFoundError\u001b[0m: [WinError 3] The system cannot find the path specified: 'C:\\\\Users\\\\nikitha\\\\Desktop\\\\train\\\\cat'"
     ]
    }
   ],
   "source": [
    "os.mkdir(r\"C:\\Users\\nikitha\\Desktop\\train\\cat\")"
   ]
  },
  {
   "cell_type": "code",
   "execution_count": null,
   "id": "379512f6",
   "metadata": {},
   "outputs": [],
   "source": [
    "a=os.listdir()"
   ]
  },
  {
   "cell_type": "code",
   "execution_count": null,
   "id": "04a46048",
   "metadata": {},
   "outputs": [],
   "source": [
    "a"
   ]
  },
  {
   "cell_type": "code",
   "execution_count": null,
   "id": "f6a89fe6",
   "metadata": {},
   "outputs": [],
   "source": [
    "ca=[]\n",
    "do=[]\n",
    "for i in a:\n",
    "    if i.startswith(\"cat\"):\n",
    "        ca.append(i)\n",
    "    elif i.startswith(\"dog\"):\n",
    "        do.append(i)"
   ]
  },
  {
   "cell_type": "code",
   "execution_count": null,
   "id": "9f9a67a9",
   "metadata": {},
   "outputs": [],
   "source": [
    "count=0\n",
    "for i in a:\n",
    "    count=count+1\n",
    "    if i.startswith(\"cat\"):\n",
    "        img=cv2.imread(r\"C:\\Users\\nikitha\\Desktop\\train\\{}\".format(i))\n",
    "        cv2.imwrite(r\"C:\\Users\\nikitha\\Desktop\\cat\\cat{}.jpg\".format(count),img)\n",
    "    else:\n",
    "        img1=cv2.imread(r\"C:\\Users\\nikitha\\Desktop\\train\\{}\".format(i))\n",
    "        cv2.imwrite(r\"C:\\Users\\nikitha\\Desktop\\dog\\dog{}.jpg\".format(count),img1)"
   ]
  },
  {
   "cell_type": "code",
   "execution_count": null,
   "id": "7ebd7219",
   "metadata": {},
   "outputs": [],
   "source": [
    "cat=[]\n",
    "for i in ca:\n",
    "    img_=cv2.imread(i)\n",
    "    cat.append(img_[0].flatten())\n",
    "pd.DataFrame({\"array\":\"cat\",\"label\":cat})"
   ]
  },
  {
   "cell_type": "code",
   "execution_count": null,
   "id": "8c315450",
   "metadata": {},
   "outputs": [],
   "source": [
    "dog=[]\n",
    "for i in do:\n",
    "    img2=cv2.imread(i)\n",
    "    img3=img2.flatten()\n",
    "    dog.append(img3)\n",
    "pd.DataFrame({\"array\":\"dog\",\"label\":dog})"
   ]
  },
  {
   "cell_type": "code",
   "execution_count": null,
   "id": "16895ee6",
   "metadata": {},
   "outputs": [],
   "source": []
  },
  {
   "cell_type": "code",
   "execution_count": null,
   "id": "fd7bb835",
   "metadata": {},
   "outputs": [],
   "source": []
  },
  {
   "cell_type": "code",
   "execution_count": null,
   "id": "f64ba718",
   "metadata": {},
   "outputs": [],
   "source": []
  }
 ],
 "metadata": {
  "kernelspec": {
   "display_name": "Python 3 (ipykernel)",
   "language": "python",
   "name": "python3"
  },
  "language_info": {
   "codemirror_mode": {
    "name": "ipython",
    "version": 3
   },
   "file_extension": ".py",
   "mimetype": "text/x-python",
   "name": "python",
   "nbconvert_exporter": "python",
   "pygments_lexer": "ipython3",
   "version": "3.9.12"
  }
 },
 "nbformat": 4,
 "nbformat_minor": 5
}
